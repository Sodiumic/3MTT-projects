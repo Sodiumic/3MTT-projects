{
 "cells": [
  {
   "cell_type": "markdown",
   "id": "a8c8e16f-71cf-4232-b77b-81d69a0de722",
   "metadata": {},
   "source": [
    "### OBJECTIVES OF THIS PROJECT:\n",
    "- To work with various data types in Python\n",
    "- To use Functions in Python\n",
    "- To use Modules in Python\n"
   ]
  },
  {
   "cell_type": "markdown",
   "id": "ea4dd3ba-612a-487d-a262-6fb6b9c5ad17",
   "metadata": {},
   "source": [
    "### PYTHON PROGRAMMING BASICS MINI-PROJECT"
   ]
  },
  {
   "cell_type": "markdown",
   "id": "4cb963ee-7d71-4b8e-911d-19eb33214489",
   "metadata": {},
   "source": [
    "### Working with various data types in Python"
   ]
  },
  {
   "cell_type": "code",
   "execution_count": 1,
   "id": "3c75144a-8842-47f2-9965-9fb2295943d2",
   "metadata": {
    "tags": []
   },
   "outputs": [
    {
     "data": {
      "text/plain": [
       "int"
      ]
     },
     "execution_count": 1,
     "metadata": {},
     "output_type": "execute_result"
    }
   ],
   "source": [
    "type(15)"
   ]
  },
  {
   "cell_type": "code",
   "execution_count": 2,
   "id": "b84f82a9-c474-4462-b512-140dcecd4b80",
   "metadata": {
    "tags": []
   },
   "outputs": [
    {
     "data": {
      "text/plain": [
       "float"
      ]
     },
     "execution_count": 2,
     "metadata": {},
     "output_type": "execute_result"
    }
   ],
   "source": [
    "type(15.2)"
   ]
  },
  {
   "cell_type": "code",
   "execution_count": 3,
   "id": "0c5588db-fd5e-486d-afee-def6648d4896",
   "metadata": {
    "tags": []
   },
   "outputs": [
    {
     "data": {
      "text/plain": [
       "int"
      ]
     },
     "execution_count": 3,
     "metadata": {},
     "output_type": "execute_result"
    }
   ],
   "source": [
    "type(-10)"
   ]
  },
  {
   "cell_type": "code",
   "execution_count": 4,
   "id": "567b633b-ac47-484a-8e54-8d1c39215eb2",
   "metadata": {
    "tags": []
   },
   "outputs": [
    {
     "data": {
      "text/plain": [
       "float"
      ]
     },
     "execution_count": 4,
     "metadata": {},
     "output_type": "execute_result"
    }
   ],
   "source": [
    "type(-122.2)"
   ]
  },
  {
   "cell_type": "code",
   "execution_count": 5,
   "id": "274c8c83-abd6-4fd6-946c-0221d4f2a19a",
   "metadata": {
    "tags": []
   },
   "outputs": [
    {
     "data": {
      "text/plain": [
       "bool"
      ]
     },
     "execution_count": 5,
     "metadata": {},
     "output_type": "execute_result"
    }
   ],
   "source": [
    "type(True)"
   ]
  },
  {
   "cell_type": "code",
   "execution_count": 6,
   "id": "2c3bef7d-1b64-459b-82b2-72020fb601d4",
   "metadata": {
    "tags": []
   },
   "outputs": [
    {
     "data": {
      "text/plain": [
       "bool"
      ]
     },
     "execution_count": 6,
     "metadata": {},
     "output_type": "execute_result"
    }
   ],
   "source": [
    "type(False)"
   ]
  },
  {
   "cell_type": "code",
   "execution_count": 7,
   "id": "8a57850a-0b7d-422e-a58d-15b7a576ca5f",
   "metadata": {
    "tags": []
   },
   "outputs": [
    {
     "data": {
      "text/plain": [
       "True"
      ]
     },
     "execution_count": 7,
     "metadata": {},
     "output_type": "execute_result"
    }
   ],
   "source": [
    "1==1"
   ]
  },
  {
   "cell_type": "code",
   "execution_count": 8,
   "id": "a0e94697-79c3-43d7-9388-600d67b25ea6",
   "metadata": {
    "tags": []
   },
   "outputs": [
    {
     "data": {
      "text/plain": [
       "False"
      ]
     },
     "execution_count": 8,
     "metadata": {},
     "output_type": "execute_result"
    }
   ],
   "source": [
    "1>5"
   ]
  },
  {
   "cell_type": "code",
   "execution_count": 9,
   "id": "65001a2f-55e9-4381-be28-d987ae26ed3c",
   "metadata": {
    "tags": []
   },
   "outputs": [
    {
     "data": {
      "text/plain": [
       "True"
      ]
     },
     "execution_count": 9,
     "metadata": {},
     "output_type": "execute_result"
    }
   ],
   "source": [
    "1<5"
   ]
  },
  {
   "cell_type": "code",
   "execution_count": 10,
   "id": "672ba1ee-715b-45c3-8d19-b4763969880f",
   "metadata": {
    "tags": []
   },
   "outputs": [
    {
     "data": {
      "text/plain": [
       "str"
      ]
     },
     "execution_count": 10,
     "metadata": {},
     "output_type": "execute_result"
    }
   ],
   "source": [
    "type(\"Good way to go\")"
   ]
  },
  {
   "cell_type": "markdown",
   "id": "d70802b6-589b-4f62-9e28-1c07ed1e2c96",
   "metadata": {},
   "source": [
    "### USING MODULES AND FUMCTIONS IN PYTHON"
   ]
  },
  {
   "cell_type": "code",
   "execution_count": 12,
   "id": "cba71bd8-608e-4d09-8db3-bdb9617cfbbe",
   "metadata": {
    "tags": []
   },
   "outputs": [],
   "source": [
    "from math import pi, sqrt"
   ]
  },
  {
   "cell_type": "code",
   "execution_count": 13,
   "id": "ba3cc965-bb93-4a0e-8c69-dd3945dfbeed",
   "metadata": {
    "tags": []
   },
   "outputs": [
    {
     "name": "stdout",
     "output_type": "stream",
     "text": [
      "3.141592653589793\n",
      "6.0\n"
     ]
    }
   ],
   "source": [
    "print(pi)\n",
    "print(sqrt(36))"
   ]
  },
  {
   "cell_type": "code",
   "execution_count": 15,
   "id": "fd5d0563-2326-40bf-bcf5-7219b526e1dd",
   "metadata": {
    "tags": []
   },
   "outputs": [
    {
     "name": "stdout",
     "output_type": "stream",
     "text": [
      "53.40707511102649\n"
     ]
    }
   ],
   "source": [
    "print(pi*17)"
   ]
  },
  {
   "cell_type": "code",
   "execution_count": 16,
   "id": "f7463406-78e2-4931-8c66-18688c8c0d84",
   "metadata": {
    "tags": []
   },
   "outputs": [
    {
     "name": "stdout",
     "output_type": "stream",
     "text": [
      "10.0\n"
     ]
    }
   ],
   "source": [
    "print(sqrt(16) + 6)"
   ]
  },
  {
   "cell_type": "code",
   "execution_count": 14,
   "id": "80c2166d-c682-4f15-89a2-20411f4f47df",
   "metadata": {
    "tags": []
   },
   "outputs": [
    {
     "name": "stdout",
     "output_type": "stream",
     "text": [
      "11\n"
     ]
    }
   ],
   "source": [
    "def Plus(a,b):\n",
    "    c = a+b\n",
    "    print(c)\n",
    "\n",
    "Plus(5,6)"
   ]
  },
  {
   "cell_type": "code",
   "execution_count": 18,
   "id": "30c7a9eb-7eee-4852-a7c0-b89ca8cab693",
   "metadata": {
    "tags": []
   },
   "outputs": [
    {
     "name": "stdout",
     "output_type": "stream",
     "text": [
      "2500\n"
     ]
    }
   ],
   "source": [
    "Plus(1200,1300)"
   ]
  },
  {
   "cell_type": "code",
   "execution_count": null,
   "id": "01ec7b4d-0252-4252-b84c-7a111a226bf2",
   "metadata": {},
   "outputs": [],
   "source": []
  }
 ],
 "metadata": {
  "kernelspec": {
   "display_name": "Python 3 (ipykernel)",
   "language": "python",
   "name": "python3"
  },
  "language_info": {
   "codemirror_mode": {
    "name": "ipython",
    "version": 3
   },
   "file_extension": ".py",
   "mimetype": "text/x-python",
   "name": "python",
   "nbconvert_exporter": "python",
   "pygments_lexer": "ipython3",
   "version": "3.11.5"
  }
 },
 "nbformat": 4,
 "nbformat_minor": 5
}
