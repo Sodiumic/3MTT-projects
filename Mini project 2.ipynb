{
 "cells": [
  {
   "cell_type": "markdown",
   "id": "ea4dd3ba-612a-487d-a262-6fb6b9c5ad17",
   "metadata": {},
   "source": [
    "# PYTHON PROGRAMMING BASICS MINI-PROJECT"
   ]
  },
  {
   "cell_type": "markdown",
   "id": "a8c8e16f-71cf-4232-b77b-81d69a0de722",
   "metadata": {
    "tags": []
   },
   "source": [
    "### OBJECTIVES OF THIS PROJECT:\n",
    "- To discuss different data types\n",
    "- To test for various data types in Python using the \"type\" function\n",
    "- To use Functions in Python\n",
    "- To use Modules in Python\n"
   ]
  },
  {
   "cell_type": "markdown",
   "id": "9521de74-4f40-4baf-b95a-89206a50346b",
   "metadata": {},
   "source": [
    "### What are data?\n",
    "Data refers to raw facts, figures, or information that can be collected, measured, and analyzed. It comes in various forms—structured (like rows and columns in a database), semi-structured (like JSON or XML files), or unstructured (like images, videos, or text).\n",
    "\n",
    "### Data types in Python\n",
    "1. Structured Data\n",
    "- Organized in a tabular format with rows and columns (e.g., spreadsheets or relational databases).\n",
    "- Easy to search, analyze, and store.\n",
    "Examples: Sales data, customer data, financial records.\n",
    "\n",
    "2. Unstructured Data\n",
    "- Does not follow a predefined format or structure.\n",
    "- More challenging to process and analyze.\n",
    "Examples: Text documents, images, videos, audio files, social media posts.\n",
    "\n",
    "3. Semi-Structured Data\n",
    "- Partially organized, containing elements of both structured and unstructured data.\n",
    "- Often stored in formats that include tags or markers.\n",
    "Examples: JSON, XML, HTML files, and NoSQL databases.\n",
    "\n",
    "4. Time Series Data\n",
    "- Data points collected or recorded over time at regular intervals.\n",
    "- Often used in forecasting and trend analysis.\n",
    "Examples: Stock market prices, weather data, IoT sensor readings.\n",
    "\n",
    "5. Categorical Data\n",
    "- Represents discrete categories or groups without any natural order.\n",
    "Examples: Gender, product type, customer segment.\n",
    "\n",
    "6. Numerical Data\n",
    "- Quantifiable data that can be measured and counted.\n",
    "\n",
    "  Divided into:\n",
    "- Discrete Data: Whole numbers (e.g., the number of items sold).\n",
    "- Continuous Data: Decimal or fractional numbers (e.g., temperature, height)."
   ]
  },
  {
   "cell_type": "markdown",
   "id": "4cb963ee-7d71-4b8e-911d-19eb33214489",
   "metadata": {},
   "source": [
    "### Testing for various data types in Python using \"type\" function"
   ]
  },
  {
   "cell_type": "code",
   "execution_count": 5,
   "id": "3c75144a-8842-47f2-9965-9fb2295943d2",
   "metadata": {
    "tags": []
   },
   "outputs": [
    {
     "data": {
      "text/plain": [
       "int"
      ]
     },
     "execution_count": 5,
     "metadata": {},
     "output_type": "execute_result"
    }
   ],
   "source": [
    "type(15)\n",
    "type(-15)"
   ]
  },
  {
   "cell_type": "code",
   "execution_count": 7,
   "id": "567b633b-ac47-484a-8e54-8d1c39215eb2",
   "metadata": {
    "tags": []
   },
   "outputs": [
    {
     "data": {
      "text/plain": [
       "float"
      ]
     },
     "execution_count": 7,
     "metadata": {},
     "output_type": "execute_result"
    }
   ],
   "source": [
    "type(-122.2)\n",
    "type(122.2)"
   ]
  },
  {
   "cell_type": "code",
   "execution_count": 8,
   "id": "274c8c83-abd6-4fd6-946c-0221d4f2a19a",
   "metadata": {
    "tags": []
   },
   "outputs": [
    {
     "data": {
      "text/plain": [
       "bool"
      ]
     },
     "execution_count": 8,
     "metadata": {},
     "output_type": "execute_result"
    }
   ],
   "source": [
    "type(True)\n",
    "type(False)"
   ]
  },
  {
   "cell_type": "code",
   "execution_count": 4,
   "id": "672ba1ee-715b-45c3-8d19-b4763969880f",
   "metadata": {
    "tags": []
   },
   "outputs": [
    {
     "data": {
      "text/plain": [
       "str"
      ]
     },
     "execution_count": 4,
     "metadata": {},
     "output_type": "execute_result"
    }
   ],
   "source": [
    "type(\"Good way to go\")"
   ]
  },
  {
   "cell_type": "markdown",
   "id": "d70802b6-589b-4f62-9e28-1c07ed1e2c96",
   "metadata": {},
   "source": [
    "### USING FUNCTIONS IN PYTHON"
   ]
  },
  {
   "cell_type": "code",
   "execution_count": 9,
   "id": "80c2166d-c682-4f15-89a2-20411f4f47df",
   "metadata": {
    "tags": []
   },
   "outputs": [
    {
     "name": "stdout",
     "output_type": "stream",
     "text": [
      "11\n"
     ]
    }
   ],
   "source": [
    "def Plus(a,b):\n",
    "    c = a+b\n",
    "    print(c)\n",
    "\n",
    "Plus(5,6)"
   ]
  },
  {
   "cell_type": "code",
   "execution_count": 10,
   "id": "30c7a9eb-7eee-4852-a7c0-b89ca8cab693",
   "metadata": {
    "tags": []
   },
   "outputs": [
    {
     "name": "stdout",
     "output_type": "stream",
     "text": [
      "2500\n"
     ]
    }
   ],
   "source": [
    "Plus(1200,1300)"
   ]
  },
  {
   "cell_type": "code",
   "execution_count": 11,
   "id": "654939e0-319c-412a-a8b5-a3cb517ad6ca",
   "metadata": {
    "tags": []
   },
   "outputs": [],
   "source": [
    "def Multi(a,b):\n",
    "    c = (a+b)/2\n",
    "    print(c)"
   ]
  },
  {
   "cell_type": "code",
   "execution_count": 12,
   "id": "9d372eab-bb79-479a-b01b-17a1c8263257",
   "metadata": {
    "tags": []
   },
   "outputs": [
    {
     "name": "stdout",
     "output_type": "stream",
     "text": [
      "8.0\n"
     ]
    }
   ],
   "source": [
    "Multi(7,9)"
   ]
  },
  {
   "cell_type": "code",
   "execution_count": 13,
   "id": "dca6ea98-ff99-4820-aa2b-ce9a4ee96160",
   "metadata": {
    "tags": []
   },
   "outputs": [
    {
     "name": "stdout",
     "output_type": "stream",
     "text": [
      "4.5\n"
     ]
    }
   ],
   "source": [
    "Multi(5,4)"
   ]
  },
  {
   "cell_type": "code",
   "execution_count": 14,
   "id": "a8f35659-d47d-41da-a4d4-22e1c2277d66",
   "metadata": {
    "tags": []
   },
   "outputs": [
    {
     "name": "stdout",
     "output_type": "stream",
     "text": [
      "5.35\n"
     ]
    }
   ],
   "source": [
    "Multi(5.3,5.4)"
   ]
  },
  {
   "cell_type": "markdown",
   "id": "7509c9c2-f656-44ec-9458-9e1afef489aa",
   "metadata": {},
   "source": [
    "### USING MODULES IN PYTHON"
   ]
  },
  {
   "cell_type": "code",
   "execution_count": 16,
   "id": "cba71bd8-608e-4d09-8db3-bdb9617cfbbe",
   "metadata": {
    "tags": []
   },
   "outputs": [],
   "source": [
    "from math import pi, sqrt"
   ]
  },
  {
   "cell_type": "code",
   "execution_count": 17,
   "id": "ba3cc965-bb93-4a0e-8c69-dd3945dfbeed",
   "metadata": {
    "tags": []
   },
   "outputs": [
    {
     "name": "stdout",
     "output_type": "stream",
     "text": [
      "3.141592653589793\n",
      "6.0\n"
     ]
    }
   ],
   "source": [
    "print(pi)\n",
    "print(sqrt(36))"
   ]
  },
  {
   "cell_type": "code",
   "execution_count": 18,
   "id": "fd5d0563-2326-40bf-bcf5-7219b526e1dd",
   "metadata": {
    "tags": []
   },
   "outputs": [
    {
     "name": "stdout",
     "output_type": "stream",
     "text": [
      "53.40707511102649\n"
     ]
    }
   ],
   "source": [
    "print(pi*17)"
   ]
  },
  {
   "cell_type": "code",
   "execution_count": 19,
   "id": "f7463406-78e2-4931-8c66-18688c8c0d84",
   "metadata": {
    "tags": []
   },
   "outputs": [
    {
     "name": "stdout",
     "output_type": "stream",
     "text": [
      "10.0\n"
     ]
    }
   ],
   "source": [
    "print(sqrt(16) + 6)"
   ]
  },
  {
   "cell_type": "code",
   "execution_count": 21,
   "id": "01ec7b4d-0252-4252-b84c-7a111a226bf2",
   "metadata": {},
   "outputs": [
    {
     "name": "stdout",
     "output_type": "stream",
     "text": [
      "153.93804002589985\n"
     ]
    }
   ],
   "source": [
    "r = 7\n",
    "Area_of_a_circle = pi*r**2\n",
    "print(Area_of_a_circle)"
   ]
  },
  {
   "cell_type": "code",
   "execution_count": 23,
   "id": "09edaf06-2a6c-47bc-9b73-7c2675f75e96",
   "metadata": {
    "tags": []
   },
   "outputs": [
    {
     "name": "stdout",
     "output_type": "stream",
     "text": [
      "10.0\n"
     ]
    }
   ],
   "source": [
    "j = 16\n",
    "t = 36\n",
    "Add_root = sqrt(j) + sqrt(t)\n",
    "print(Add_root)"
   ]
  },
  {
   "cell_type": "code",
   "execution_count": null,
   "id": "d75bc907-19a8-4397-9808-eb948bd2b105",
   "metadata": {},
   "outputs": [],
   "source": []
  }
 ],
 "metadata": {
  "kernelspec": {
   "display_name": "Python 3 (ipykernel)",
   "language": "python",
   "name": "python3"
  },
  "language_info": {
   "codemirror_mode": {
    "name": "ipython",
    "version": 3
   },
   "file_extension": ".py",
   "mimetype": "text/x-python",
   "name": "python",
   "nbconvert_exporter": "python",
   "pygments_lexer": "ipython3",
   "version": "3.11.5"
  }
 },
 "nbformat": 4,
 "nbformat_minor": 5
}
